{
 "cells": [
  {
   "cell_type": "code",
   "execution_count": null,
   "id": "2be3da08",
   "metadata": {},
   "outputs": [],
   "source": []
  }
 ],
 "metadata": {
  "kernelspec": {
   "display_name": "Python 3.13 (cnndetection)",
   "language": "python",
   "name": "cnndetection"
  },
  "language_info": {
   "name": "python",
   "version": "3.13.5"
  }
 },
 "nbformat": 4,
 "nbformat_minor": 5
}
